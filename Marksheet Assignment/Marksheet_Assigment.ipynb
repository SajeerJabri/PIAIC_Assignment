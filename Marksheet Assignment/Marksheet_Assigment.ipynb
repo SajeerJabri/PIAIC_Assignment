{
 "cells": [
  {
   "cell_type": "code",
   "execution_count": 25,
   "metadata": {},
   "outputs": [
    {
     "name": "stdout",
     "output_type": "stream",
     "text": [
      "Enter your Name\n",
      "FAWAD\n",
      "\n",
      "Enter Your Subjects with comma (,) seperated \n",
      "JAVA,LINEAR ALGEBRA,BASIC ELECTRONIC,C LANGUAGE,ENGLISH\n",
      "\n",
      "Enter Your Numbers with comma sererated \n",
      "60,75,85,65,71\n",
      "--------------------------------------------\n",
      "Your Subjects And Numbers is:  \n",
      "JAVA = 60\n",
      "LINEAR ALGEBRA = 75\n",
      "BASIC ELECTRONIC = 85\n",
      "C LANGUAGE = 65\n",
      "ENGLISH = 71\n",
      "------------------------------------------\n",
      "Total Number is : 356\n",
      "------------------------------------------\n",
      "Your Percentage is : 71.2\n",
      "-------------------------------------------\n",
      "Your Grade is A\n"
     ]
    }
   ],
   "source": [
    "name = input(\"Enter your Name\\n\")\n",
    "subjects = input(\"\\nEnter Your Subjects with comma (,) seperated \\n\").split(',')\n",
    "numbers = input(\"\\nEnter Your Numbers with comma sererated \\n\").split(',')\n",
    "print(\"--------------------------------------------\")\n",
    "print(\"Your Subjects And Numbers is:  \")\n",
    "for i,j in zip(subjects,numbers):\n",
    "    print(f\"{i} = {j}\")\n",
    "total_number = 0\n",
    "for x in numbers:\n",
    "    total_number = total_number + int(x)\n",
    "print(\"------------------------------------------\")\n",
    "print(f\"Total Number is : {total_number}\")\n",
    "print(\"------------------------------------------\")\n",
    "percentage = (total_number*100)/(len(numbers)*100)\n",
    "print(f\"Your Percentage is : {percentage}\")\n",
    "print(\"-------------------------------------------\")\n",
    "if percentage >=80 and percentage <=100:\n",
    "    print(\"Your Grade is A+\")\n",
    "elif percentage >=70 and percentage <80:\n",
    "    print(\"Your Grade is A\")\n",
    "elif percentage >=60 and percentage <70:\n",
    "    print(\"Your Grade is B\")\n",
    "elif percentage >=50 and percentage <60:\n",
    "    print(\"Your Grade is C\")\n",
    "else:\n",
    "    print(\"Your are Fail\")\n",
    "\n",
    "#---------------------------------------------------------------------------------\n",
    "#                              FILE HANDLING\n",
    "#---------------------------------------------------------------------------------\n",
    "\n",
    "with open('file1.txt','a') as f:\n",
    "    f.write(\"\\n------------------------------------------------------\")\n",
    "    f.write(f\"\\n \\t \\t \\tSTUDENT NAME: {name}\")\n",
    "    f.write(f\"\\n Your Subjects and Numbers is: \")\n",
    "    for i,j in zip(subjects,numbers):\n",
    "        f.write(f\"\\n {str(i)} = {str(j)}\")\n",
    "    f.write(f\"\\n Total Number is: {total_number}\")\n",
    "    # percentage\n",
    "    f.write(f\"\\n Your Percentage is: {percentage}\\n\")\n",
    "    # grade\n",
    "    if percentage >=80 and percentage <=100:\n",
    "        f.write(\" Your Grade is A+\")\n",
    "    elif percentage >=70 and percentage <80:\n",
    "        f.write(\" Your Grade is A\")\n",
    "    elif percentage >=60 and percentage <70:\n",
    "        f.write(\" Your Grade is B\")\n",
    "    elif percentage >=50 and percentage <60:\n",
    "        f.write(\" Your Grade is C\")\n",
    "    else:\n",
    "        f.write(\" Your are Fail\")\n",
    "    \n",
    "    \n",
    "    \n",
    "    f.write(\"\\n------------------------------------------------------\")"
   ]
  }
 ],
 "metadata": {
  "kernelspec": {
   "display_name": "Python 3",
   "language": "python",
   "name": "python3"
  },
  "language_info": {
   "codemirror_mode": {
    "name": "ipython",
    "version": 3
   },
   "file_extension": ".py",
   "mimetype": "text/x-python",
   "name": "python",
   "nbconvert_exporter": "python",
   "pygments_lexer": "ipython3",
   "version": "3.7.3"
  }
 },
 "nbformat": 4,
 "nbformat_minor": 2
}
