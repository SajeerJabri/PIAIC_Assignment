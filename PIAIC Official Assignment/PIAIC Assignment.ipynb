{
 "cells": [
  {
   "cell_type": "markdown",
   "metadata": {},
   "source": [
    "# ------------------ 1. Calculate Area of a Circle ------------------------"
   ]
  },
  {
   "cell_type": "code",
   "execution_count": 12,
   "metadata": {},
   "outputs": [
    {
     "name": "stdout",
     "output_type": "stream",
     "text": [
      "Enter the radius0.5\n",
      "Area of the circle is 0.785\n"
     ]
    }
   ],
   "source": [
    "# ------------------ 1. Calculate Area of a Circle ------------------------\n",
    "radius = float(input(\"Enter the radius\"))\n",
    "area = 3.14 * radius**2\n",
    "print(f\"Area of the circle is {area}\")"
   ]
  },
  {
   "cell_type": "markdown",
   "metadata": {},
   "source": [
    "# ------ 2. Check Number either positive, negative or zero ------"
   ]
  },
  {
   "cell_type": "code",
   "execution_count": 16,
   "metadata": {},
   "outputs": [
    {
     "name": "stdout",
     "output_type": "stream",
     "text": [
      "Enter any Number : 5\n",
      "Positive Number Entered\n"
     ]
    }
   ],
   "source": [
    "# ------ 2. Check Number either positive, negative or zero ------\n",
    "number = int(input(\"Enter any Number : \"))\n",
    "if number > 0:\n",
    "    print(\"Positive Number Entered\")\n",
    "elif number < 0:\n",
    "    print(\"Negative Number Entered\")\n",
    "elif number == 0:\n",
    "    print(\"Zero Entered\")"
   ]
  },
  {
   "cell_type": "markdown",
   "metadata": {},
   "source": [
    "#  ------------ 3. Divisibility Check of two numbers ---------------"
   ]
  },
  {
   "cell_type": "code",
   "execution_count": 1,
   "metadata": {},
   "outputs": [
    {
     "name": "stdout",
     "output_type": "stream",
     "text": [
      "Enter numerator4\n",
      "Enter denominator2\n",
      "Number 4 is Completely divisble by 2\n"
     ]
    }
   ],
   "source": [
    "#  ------------ 3. Divisibility Check of two numbers ---------------\n",
    "numerator = int(input(\"Enter numerator\"))\n",
    "denominator = int(input(\"Enter denominator\"))\n",
    "if numerator % denominator == 0:\n",
    "    print(f\"Number {numerator} is Completely divisble by {denominator}\")\n",
    "else:\n",
    "    print(f\"Number {numerator} is not Completely divisble by {denominator}\")"
   ]
  },
  {
   "cell_type": "markdown",
   "metadata": {},
   "source": [
    "# ------------------------- 4. Days Calculator ---------------------"
   ]
  },
  {
   "cell_type": "code",
   "execution_count": 2,
   "metadata": {},
   "outputs": [
    {
     "name": "stdout",
     "output_type": "stream",
     "text": [
      "Enter a date in (dd/mm/yy) format: 12/12/2018\n",
      "Enter a date in (dd/mm/yy) format: 16/12/2018\n",
      "There are 4 days in between 12/12/2018 and 16/12/2018\n"
     ]
    }
   ],
   "source": [
    "# ------------------------- 4. Days Calculator ---------------------\n",
    "date1 = input(\"Enter a date in (dd/mm/yy) format: \")\n",
    "date2 = input(\"Enter a date in (dd/mm/yy) format: \")\n",
    "day1 = date1[0:2]\n",
    "day2 = date2[0:2]\n",
    "difference = int(day1) - int(day2)\n",
    "if difference < 0:\n",
    "    difference = -(difference)\n",
    "    print(f\"There are {difference} days in between {date1} and {date2}\")\n",
    "else:\n",
    "    print(f\"There are {difference} days in between {date1} and {date2}\")"
   ]
  },
  {
   "cell_type": "markdown",
   "metadata": {},
   "source": [
    "# ----------------- 5. Calculate Volume of a sphere ------------------"
   ]
  },
  {
   "cell_type": "code",
   "execution_count": 3,
   "metadata": {},
   "outputs": [
    {
     "name": "stdout",
     "output_type": "stream",
     "text": [
      "Enter the value of radius of sphere 1\n",
      "Volume of the Sphere with Radius 1 is 4.1866666666666665\n"
     ]
    }
   ],
   "source": [
    "# ----------------- 5. Calculate Volume of a sphere ------------------\n",
    "radius_of_sphere = int(input(\"Enter the value of radius of sphere \"))\n",
    "volume = (4/3)*3.14*radius_of_sphere**3\n",
    "print(f\"Volume of the Sphere with Radius {radius_of_sphere} is {volume}\")\n"
   ]
  },
  {
   "cell_type": "markdown",
   "metadata": {},
   "source": [
    "# ------------------------ 6. Copy string n times ---------------------"
   ]
  },
  {
   "cell_type": "code",
   "execution_count": 4,
   "metadata": {},
   "outputs": [
    {
     "name": "stdout",
     "output_type": "stream",
     "text": [
      "Enter string: hi\n",
      "How many copies of String you need: 4\n",
      "4 Copies of hi are hihihihi\n"
     ]
    }
   ],
   "source": [
    "# ------------------------ 6. Copy string n times ---------------------\n",
    "string = input(\"Enter string: \")\n",
    "number = int(input(\"How many copies of String you need: \"))\n",
    "string_copy = \"\"\n",
    "for i in range(number):\n",
    "    string_copy = string_copy + string\n",
    "    i += 1\n",
    "print(f\"{number} Copies of {string} are {string_copy}\")"
   ]
  },
  {
   "cell_type": "markdown",
   "metadata": {},
   "source": [
    "# -------------- 7. Check if number is Even or Odd ----------------"
   ]
  },
  {
   "cell_type": "code",
   "execution_count": 5,
   "metadata": {},
   "outputs": [
    {
     "name": "stdout",
     "output_type": "stream",
     "text": [
      "Enter Number4\n",
      "4 is Even\n"
     ]
    }
   ],
   "source": [
    "# ---------------------- 7. Check if number is Even or Odd ------------------\n",
    "number = int(input(\"Enter Number\"))\n",
    "if number % 2 == 0:\n",
    "    print(f\"{number} is Even\")\n",
    "elif number % 2 != 0:\n",
    "    print(f\"{number} is Odd\")"
   ]
  },
  {
   "cell_type": "markdown",
   "metadata": {},
   "source": [
    "# ---------------------- 8. Vowel Tester -----------------------"
   ]
  },
  {
   "cell_type": "code",
   "execution_count": 48,
   "metadata": {},
   "outputs": [
    {
     "name": "stdout",
     "output_type": "stream",
     "text": [
      "Enter a Character: A\n",
      "Letter A is Vowel\n"
     ]
    }
   ],
   "source": [
    "# ----------------- 8. Vowel Tester -----------------------\n",
    "character = input(\"Enter a Character: \")\n",
    "if character in ('A','a','E','e','I','i','O','o','U','u'):\n",
    "    print(f\"Letter {character} is Vowel\")\n",
    "else:\n",
    "    print(f\"Letter {character} is not Vowel\")"
   ]
  },
  {
   "cell_type": "markdown",
   "metadata": {},
   "source": [
    "# ----------------- 9. Triangle area -----------------------"
   ]
  },
  {
   "cell_type": "code",
   "execution_count": 14,
   "metadata": {},
   "outputs": [
    {
     "name": "stdout",
     "output_type": "stream",
     "text": [
      "Enter Magnitude of Triangle Base: 4\n",
      "Enter Magnitude of Triangle Height: 4\n",
      "Area of a Triangle with Height 4 and Base 4 is 8\n"
     ]
    }
   ],
   "source": [
    "# ----------------- 9. Triangle area -----------------------\n",
    "triangle_base = int(input(\"Enter Magnitude of Triangle Base: \"))\n",
    "triangle_height = int(input(\"Enter Magnitude of Triangle Height: \"))\n",
    "area_of_triangle = round((1/2)*triangle_base*triangle_height)\n",
    "print(f\"Area of a Triangle with Height {triangle_height} and Base {triangle_base} is {area_of_triangle}\")"
   ]
  },
  {
   "cell_type": "markdown",
   "metadata": {},
   "source": [
    "# --------------- 10. Calculate Interest ----------------"
   ]
  },
  {
   "cell_type": "code",
   "execution_count": 7,
   "metadata": {},
   "outputs": [
    {
     "name": "stdout",
     "output_type": "stream",
     "text": [
      "Please enter principal amount: 10000\n",
      "Please enter the rate of interest in %: 0.1\n",
      "Please enter the number of years: 5\n",
      "After 5 years your principle amount 10000 over an investment of 0.1% will be 16105.1\n"
     ]
    }
   ],
   "source": [
    "# --------------- 10. Calculate Interest ----------------\n",
    "principle_amount = int(input(\"Please enter principal amount: \"))\n",
    "interest_rate = float(input(\"Please enter the rate of interest in %: \"))\n",
    "years = int(input(\"Please enter the number of years: \"))\n",
    "future_amount = round(principle_amount*(1+interest_rate)**years, 1)\n",
    "print(f\"After {years} years your principle amount {principle_amount} over an investment of {interest_rate}% will be {future_amount}\")"
   ]
  },
  {
   "cell_type": "markdown",
   "metadata": {},
   "source": [
    "# -------------- 11. Euclidean distance -----------------"
   ]
  },
  {
   "cell_type": "code",
   "execution_count": 8,
   "metadata": {},
   "outputs": [
    {
     "name": "stdout",
     "output_type": "stream",
     "text": [
      "enter cordinate for x1:2\n",
      "enter cordinate for x2:4\n",
      "enter cordinate for y1:4\n",
      "enter cordinate for y2:4\n",
      "Distance between points (2, 4) and (4, 4) is 2 \n"
     ]
    }
   ],
   "source": [
    "# -------------- 11. Euclidean distance -----------------\n",
    "import math\n",
    "x1 = int(input(\"enter cordinate for x1:\"))\n",
    "x2 = int(input(\"enter cordinate for x2:\"))\n",
    "y1 = int(input(\"enter cordinate for y1:\"))\n",
    "y2 = int(input(\"enter cordinate for y2:\"))\n",
    "distance = round(math.sqrt((x2-x1)**2 + (y2-y1)**2))\n",
    "print(f\"Distance between points ({x1}, {x2}) and ({y1}, {y2}) is {distance} \")"
   ]
  },
  {
   "cell_type": "markdown",
   "metadata": {},
   "source": [
    "# ----------------- 12. Feet to Centimeter Converter  ------------------"
   ]
  },
  {
   "cell_type": "code",
   "execution_count": 15,
   "metadata": {},
   "outputs": [
    {
     "name": "stdout",
     "output_type": "stream",
     "text": [
      "Enter height: 5\n",
      "There are 152.4 Cm in 5.0 ft\n"
     ]
    }
   ],
   "source": [
    "# ----------------- 12. Feet to Centimeter Converter  ----------------------\n",
    "height = float(input(\"Enter height: \"))\n",
    "cm = height *30.48\n",
    "print(f\"There are {cm} Cm in {height} ft\")"
   ]
  },
  {
   "cell_type": "markdown",
   "metadata": {},
   "source": [
    "# --------------- 13. BMI Calculator  ----------------"
   ]
  },
  {
   "cell_type": "code",
   "execution_count": 16,
   "metadata": {},
   "outputs": [
    {
     "name": "stdout",
     "output_type": "stream",
     "text": [
      "Enter Height in Cm:180\n",
      "Enter Weight in Kg:75\n",
      "Your BMI is 23.15\n"
     ]
    }
   ],
   "source": [
    "# --------------- 13. BMI Calculator  ----------------\n",
    "height = int(input('Enter Height in Cm:'))\n",
    "weight = int(input('Enter Weight in Kg:'))\n",
    "BMI = round(weight/(height/100)**2,2)\n",
    "print(f'Your BMI is {BMI}')"
   ]
  },
  {
   "cell_type": "markdown",
   "metadata": {},
   "source": [
    "# ----------------- 14. Sum of n Positive Integers ----------------------"
   ]
  },
  {
   "cell_type": "code",
   "execution_count": 17,
   "metadata": {},
   "outputs": [
    {
     "name": "stdout",
     "output_type": "stream",
     "text": [
      "Enter value of n: 5\n",
      "sum of n positive integers till 5 is 15\n"
     ]
    }
   ],
   "source": [
    "# ----------------- 14. Sum of n Positive Integers ----------------------\n",
    "n = int(input(\"Enter value of n: \"))\n",
    "sum_of_n = (n*(n+1))//2\n",
    "print(f\"sum of n positive integers till {n} is {sum_of_n}\")\n"
   ]
  },
  {
   "cell_type": "markdown",
   "metadata": {},
   "source": [
    "# --------------- 15. Digits Sum of a Number -----------------"
   ]
  },
  {
   "cell_type": "code",
   "execution_count": 66,
   "metadata": {},
   "outputs": [
    {
     "name": "stdout",
     "output_type": "stream",
     "text": [
      "Enter a number:1234\n",
      "sum of digits in integer 1234 is 10\n"
     ]
    }
   ],
   "source": [
    "# --------------- 15. Digits Sum of a Number -----------------\n",
    "number = (input('Enter a number:'))\n",
    "sum_of_digits = 0\n",
    "for i in range(0, len(number)):\n",
    "    sum_of_digits += int(number[i])\n",
    "print(f'sum of digits in integer {number} is {sum_of_digits}')"
   ]
  },
  {
   "cell_type": "markdown",
   "metadata": {},
   "source": [
    "# ----------------- 16. Decimal to Binary Converter  -----------------"
   ]
  },
  {
   "cell_type": "code",
   "execution_count": 54,
   "metadata": {},
   "outputs": [
    {
     "name": "stdout",
     "output_type": "stream",
     "text": [
      "Enter a decimal number: 5\n",
      "101"
     ]
    }
   ],
   "source": [
    "# ----------------- 16. Decimal to Binary Converter  -----------------\n",
    "def convertToBinary(n):\n",
    "   # Function to print binary number for the input decimal using recursion\n",
    "   if n > 1:\n",
    "       convertToBinary(n//2)\n",
    "   print(n % 2,end = '')\n",
    "\n",
    "# decimal number\n",
    "dec = int(input(\"Enter a decimal number: \"))\n",
    "\n",
    "convertToBinary(dec)"
   ]
  },
  {
   "cell_type": "markdown",
   "metadata": {},
   "source": [
    "# ----------------- 17. Binary to Decimal Converter ---------------------"
   ]
  },
  {
   "cell_type": "code",
   "execution_count": 58,
   "metadata": {},
   "outputs": [
    {
     "name": "stdout",
     "output_type": "stream",
     "text": [
      "Input a binary number: 1001\n",
      "The decimal value of the number is 9\n"
     ]
    }
   ],
   "source": [
    "# ----------------- 17. Binary to Decimal Converter ---------------------\n",
    "b_num = list(input(\"Input a binary number: \"))\n",
    "value = 0\n",
    "\n",
    "for i in range(len(b_num)):\n",
    "    digit = b_num.pop()\n",
    "    if digit == '1':\n",
    "        value = value + pow(2, i)\n",
    "print(\"The decimal value of the number is\", value)"
   ]
  },
  {
   "cell_type": "markdown",
   "metadata": {},
   "source": [
    "# -------------- 18. Vowel and Consonants Counter ---------------"
   ]
  },
  {
   "cell_type": "code",
   "execution_count": 11,
   "metadata": {},
   "outputs": [
    {
     "name": "stdout",
     "output_type": "stream",
     "text": [
      "Enter text: QuickBrownFoxJumpsovertheDog\n",
      "Vowels:  9\n",
      "Consonants :  19\n"
     ]
    }
   ],
   "source": [
    "# -------------- 18. Vowel and Consonants Counter ---------------\n",
    "str1 = input(\"Enter text: \")\n",
    "vowels = 0\n",
    "consonants = 0\n",
    "\n",
    "for i in str1:\n",
    "    if(i == 'a' or i == 'e' or i == 'i' or i == 'o' or i == 'u'\n",
    "       or i == 'A' or i == 'E' or i == 'I' or i == 'O' or i == 'U'):\n",
    "        vowels = vowels + 1\n",
    "    else:\n",
    "        consonants = consonants + 1\n",
    " \n",
    "print(\"Vowels: \", vowels)\n",
    "print(\"Consonants : \", consonants)"
   ]
  },
  {
   "cell_type": "markdown",
   "metadata": {},
   "source": [
    "# ------------------- 19. Palindrome tester ----------------"
   ]
  },
  {
   "cell_type": "code",
   "execution_count": 12,
   "metadata": {},
   "outputs": [
    {
     "name": "stdout",
     "output_type": "stream",
     "text": [
      "Enter text: AHA\n",
      "Text AHA is Palindrome\n"
     ]
    }
   ],
   "source": [
    "# ------------------- 19. Palindrome tester ----------------\n",
    "user_str = input(\"Enter text: \")\n",
    "palindrome = user_str[::-1]\n",
    "if palindrome == user_str:\n",
    "    print(f\"Text {user_str} is Palindrome\")\n",
    "else:\n",
    "    print(f\"Text {user_str} is not a Palindrome\")"
   ]
  },
  {
   "cell_type": "markdown",
   "metadata": {},
   "source": [
    "# -- 20. Count Alphabets, Numbers and Special Characters  --"
   ]
  },
  {
   "cell_type": "code",
   "execution_count": 69,
   "metadata": {},
   "outputs": [
    {
     "name": "stdout",
     "output_type": "stream",
     "text": [
      "Enter text: python 3.2\n",
      "\n",
      "Numbers = 2\n",
      "Alphabets = 6\n",
      "Special Characters = 1\n",
      "Spaces 1\n"
     ]
    }
   ],
   "source": [
    "# ----------- 20. Count Alphabets, Numbers and Special Characters  ------------\n",
    "string = input(\"Enter text: \")\n",
    "alphabets = digits = special = spaces = 0\n",
    "\n",
    "for i in range(len(string)):\n",
    "    if(string[i].isalpha()):\n",
    "        alphabets = alphabets + 1\n",
    "    elif(string[i].isdigit()):\n",
    "        digits = digits + 1\n",
    "    elif(string[i]) == \" \":\n",
    "        spaces = spaces + 1\n",
    "    else:\n",
    "        special = special + 1\n",
    "        \n",
    "print(\"\\nNumbers =\", digits)\n",
    "print(\"Alphabets =\", alphabets)\n",
    "print(\"Special Characters =\", special)\n",
    "print(\"Spaces\", spaces)"
   ]
  },
  {
   "cell_type": "markdown",
   "metadata": {},
   "source": [
    "# ------------- 21. Construct the following pattern ---------------"
   ]
  },
  {
   "cell_type": "code",
   "execution_count": 36,
   "metadata": {},
   "outputs": [
    {
     "name": "stdout",
     "output_type": "stream",
     "text": [
      "* \n",
      "* * \n",
      "* * * \n",
      "* * * * \n",
      "* * * * * \n",
      "* * * * \n",
      "* * * \n",
      "* * \n",
      "* \n"
     ]
    }
   ],
   "source": [
    "''' ---------------- 21. Construct the following pattern ------------------\n",
    "==============================================================================\n",
    "                                    *\n",
    "                                    * *\n",
    "                                    * * *\n",
    "                                    * * * *\n",
    "                                    * * * * *\n",
    "                                    * * * *\n",
    "                                    * * *\n",
    "                                    * *\n",
    "                                    *                  \n",
    "=============================================================================='''\n",
    "k = (9 + 1)//2\n",
    "for i in range(1,k +1):\n",
    "    for j in range(1,i+1):\n",
    "        print(\"*\", end=' ')\n",
    "    print()\n",
    "for x in range(k+1,10):\n",
    "    for j in range(x-1,9):\n",
    "        print(\"*\",end= ' ')\n",
    "    print()\n",
    "        "
   ]
  },
  {
   "cell_type": "markdown",
   "metadata": {},
   "source": [
    "# ------------- 22. Construct the following pattern ---------------"
   ]
  },
  {
   "cell_type": "code",
   "execution_count": 9,
   "metadata": {},
   "outputs": [
    {
     "name": "stdout",
     "output_type": "stream",
     "text": [
      "1 \n",
      "1 2 \n",
      "1 2 3 \n",
      "1 2 3 4 \n",
      "1 2 3 4 5 \n",
      "1 2 3 4 \n",
      "1 2 3 \n",
      "1 2 \n",
      "1 \n",
      "\n",
      "\n",
      "\n",
      "\n",
      "\n",
      "\n"
     ]
    }
   ],
   "source": [
    "'''------------------- 22. Construct the following pattern -------------------\n",
    "==============================================================================\n",
    "                                1\n",
    "                                1 2\n",
    "                                1 2 3\n",
    "                                1 2 3 4\n",
    "                                1 2 3 4 5\n",
    "                                1 2 3 4\n",
    "                                1 2 3\n",
    "                                1 2 \n",
    "                                1 \n",
    "=============================================================================='''\n",
    "k = (9 + 1)//2\n",
    "for row in range(1, k + 1):\n",
    "    for column in range(1, row + 1):\n",
    "        print(column, end=' ')\n",
    "    print()\n",
    "for row in range(10,0,-1):\n",
    "    for column in range(1,row -k):\n",
    "        print(column,end= ' ')\n",
    "    print()"
   ]
  },
  {
   "cell_type": "markdown",
   "metadata": {},
   "source": [
    "# ------------ 23. Construct the following pattern ---------------"
   ]
  },
  {
   "cell_type": "code",
   "execution_count": 11,
   "metadata": {},
   "outputs": [
    {
     "name": "stdout",
     "output_type": "stream",
     "text": [
      "\n",
      "1\n",
      "22\n",
      "333\n",
      "4444\n",
      "55555\n",
      "666666\n",
      "7777777\n",
      "88888888\n",
      "999999999\n"
     ]
    }
   ],
   "source": [
    "''' ------------ 23. Construct the following pattern -------------------\n",
    "================================================================================\n",
    "                                    1\n",
    "                                    22\n",
    "                                    333\n",
    "                                    4444\n",
    "                                    55555\n",
    "                                    666666\n",
    "                                    7777777\n",
    "                                    88888888\n",
    "                                    999999999\n",
    "==============================================================================='''\n",
    "for num in range(10):\n",
    "    for i in range(num):\n",
    "        print (num, end=\"\")\n",
    "    print()"
   ]
  }
 ],
 "metadata": {
  "kernelspec": {
   "display_name": "Python 3",
   "language": "python",
   "name": "python3"
  },
  "language_info": {
   "codemirror_mode": {
    "name": "ipython",
    "version": 3
   },
   "file_extension": ".py",
   "mimetype": "text/x-python",
   "name": "python",
   "nbconvert_exporter": "python",
   "pygments_lexer": "ipython3",
   "version": "3.7.3"
  }
 },
 "nbformat": 4,
 "nbformat_minor": 2
}
