{
 "cells": [
  {
   "cell_type": "code",
   "execution_count": 4,
   "metadata": {},
   "outputs": [
    {
     "name": "stdout",
     "output_type": "stream",
     "text": [
      "Sorry, the file alice.txt does not exist.\n",
      "---------------------------------------------\n",
      "Sorry, the file words.txt does not exist.\n",
      "---------------------------------------------\n",
      "Your filename is: sample_text_file.txt\n",
      "Number of Line: 4821 \n",
      "Number of Words: 38128 \n",
      "Numebr of Characters: 137183 \n",
      "Number of Spaces: 54320 \n",
      "Number of Tabs: 29 \n",
      "Number of Paragraphs: 4675\n",
      "---------------------------------------------\n"
     ]
    }
   ],
   "source": [
    "#========================== Parsing Text File ================================\n",
    "def count_words(filename):\n",
    "    \"\"\"Count the approximate number of words in a file.\"\"\"\n",
    "    try:\n",
    "        with open(filename) as file:\n",
    "            contents = file.read()\n",
    "    except FileNotFoundError:\n",
    "        msg = \"Sorry, the file \" + filename + \" does not exist.\"\n",
    "        print(msg)\n",
    "    else:\n",
    "        # Count approximate number of words in the file.\n",
    "#=========================================================================\n",
    "        num_lines = 0\n",
    "        num_words = 0\n",
    "        num_chars = 0\n",
    "        num_paragraphs = 0\n",
    "        num_spaces = 0\n",
    "        num_tabs = 0\n",
    "\n",
    "#we are going to use for loop\n",
    "        with open(filename,'r') as file:\n",
    "            for line in file:\n",
    "                # let's create a list for words\n",
    "                words_lists = line.split()\n",
    "                num_lines += 1\n",
    "                num_words += len(words_lists)\n",
    "                num_chars += len(line)\n",
    "                num_spaces += line.count(' ')\n",
    "                num_tabs += line.count('    ')\n",
    "                if len(line) < 2:\n",
    "                    num_paragraphs *= 0\n",
    "                elif len(line) > 2:\n",
    "                    num_paragraphs = num_paragraphs + 1\n",
    "            print(f\"Your filename is: {filename}\")\n",
    "            print(f\"Number of Line: {num_lines} \\nNumber of Words: {num_words} \\nNumebr of Characters: {num_chars} \\nNumber of Spaces: {num_spaces} \\nNumber of Tabs: {num_tabs} \\nNumber of Paragraphs: {num_paragraphs}\")\n",
    "#=======================================================================\n",
    "\n",
    "filenames = ['alice.txt','words.txt','sample_text_file.txt']\n",
    "for filename in filenames:\n",
    "    count_words(filename)\n",
    "    print(\"---------------------------------------------\")"
   ]
  },
  {
   "cell_type": "code",
   "execution_count": 3,
   "metadata": {},
   "outputs": [
    {
     "name": "stdout",
     "output_type": "stream",
     "text": [
      "Enter your correct html file\n",
      "sample_html_file.html\n",
      "\n",
      "Your HTML file is: sample_html_file.html\n",
      "\n",
      "Opening Tags: {'html': 1, 'head': 1, 'title': 1, 'style': 1, 'body': 1, 'h1': 1, 'p': 3, 'a': 1}\n",
      "\n",
      "Closing Tags: {'title': 1, 'style': 1, 'head': 1, 'h1': 1, 'p': 3, 'a': 1, 'body': 1, 'html': 1}\n",
      "\n",
      "Opening Tag is = 10\t \tClosing Tag = 10\n"
     ]
    }
   ],
   "source": [
    "#============================= Parsing HTML File ===========================\n",
    "from html.parser import HTMLParser\n",
    "from bs4 import BeautifulSoup\n",
    "import os\n",
    "\n",
    "opening_dict = {}\n",
    "closing_dict = {}\n",
    "class MyHTMLParser(HTMLParser):\n",
    "    \n",
    "# ---------------count opening tag----------------\n",
    "    def handle_starttag(self, tag, attrs): \n",
    "        if tag not in opening_dict:\n",
    "            opening_dict[tag] = 1\n",
    "        else:\n",
    "            opening_dict[tag]  +=1\n",
    "# ---------------count closing tag----------------       \n",
    "    def handle_endtag(self, tag):\n",
    "        if tag not in closing_dict:\n",
    "            closing_dict[tag] = 1\n",
    "        else:\n",
    "            closing_dict[tag]  +=1 \n",
    "#-----------------display opening and closing tag ----------------\n",
    "    def display (self):  \n",
    "        print(f\"\\nOpening Tags: {opening_dict}\")\n",
    "        print(f\"\\nClosing Tags: {closing_dict}\")\n",
    "        soup = BeautifulSoup(open(filename), \"html.parser\")       \n",
    "        tag_close = data.count('</')\n",
    "        tag_open = data.count('<') - tag_close\n",
    "        print(f\"\\nOpening Tag is = {tag_open}\\t \\tClosing Tag = {tag_close}\")\n",
    "    \n",
    "#---------------------------------\n",
    "filename = input(\"Enter your correct html file\\n\")\n",
    "if os.path.isfile(filename) is True:\n",
    "    parser = MyHTMLParser()\n",
    "    f = open(filename, 'r')\n",
    "    data = f.read()\n",
    "    print(f\"\\nYour HTML file is: {filename}\")\n",
    "    parser.feed(data)\n",
    "    parser.display()\n",
    "    \n",
    "else :\n",
    "    print(f\"\\nSorry, the file {filename} does not exist.\")\n",
    "    "
   ]
  }
 ],
 "metadata": {
  "kernelspec": {
   "display_name": "Python 3",
   "language": "python",
   "name": "python3"
  },
  "language_info": {
   "codemirror_mode": {
    "name": "ipython",
    "version": 3
   },
   "file_extension": ".py",
   "mimetype": "text/x-python",
   "name": "python",
   "nbconvert_exporter": "python",
   "pygments_lexer": "ipython3",
   "version": "3.7.3"
  }
 },
 "nbformat": 4,
 "nbformat_minor": 2
}
